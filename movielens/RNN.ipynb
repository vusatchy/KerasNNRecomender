{
 "cells": [
  {
   "cell_type": "code",
   "execution_count": 1,
   "metadata": {
    "collapsed": false
   },
   "outputs": [
    {
     "name": "stderr",
     "output_type": "stream",
     "text": [
      "Using TensorFlow backend.\n"
     ]
    }
   ],
   "source": [
    "import keras\n",
    "from sklearn.metrics import mean_absolute_error, mean_squared_error\n",
    "from IPython.display import SVG\n",
    "from keras.optimizers import Adam\n",
    "from keras.utils.vis_utils import model_to_dot\n",
    "from keras.layers import merge,concatenate\n",
    "import pandas as pd\n",
    "import numpy as np\n",
    "import matplotlib.pyplot as plt\n",
    "import warnings\n",
    "from sklearn.model_selection import train_test_split\n",
    "warnings.filterwarnings('ignore')\n",
    "\n",
    "%matplotlib inline"
   ]
  },
  {
   "cell_type": "code",
   "execution_count": 2,
   "metadata": {
    "collapsed": true
   },
   "outputs": [],
   "source": [
    "dataset = pd.read_csv(\"dat/ratings.dat\",sep='::',names=\"user_id,item_id,rating,timestamp\".split(\",\"))"
   ]
  },
  {
   "cell_type": "code",
   "execution_count": 3,
   "metadata": {
    "collapsed": false
   },
   "outputs": [
    {
     "data": {
      "text/html": [
       "<div>\n",
       "<table border=\"1\" class=\"dataframe\">\n",
       "  <thead>\n",
       "    <tr style=\"text-align: right;\">\n",
       "      <th></th>\n",
       "      <th>user_id</th>\n",
       "      <th>item_id</th>\n",
       "      <th>rating</th>\n",
       "      <th>timestamp</th>\n",
       "    </tr>\n",
       "  </thead>\n",
       "  <tbody>\n",
       "    <tr>\n",
       "      <th>0</th>\n",
       "      <td>1</td>\n",
       "      <td>1193</td>\n",
       "      <td>5</td>\n",
       "      <td>978300760</td>\n",
       "    </tr>\n",
       "    <tr>\n",
       "      <th>1</th>\n",
       "      <td>1</td>\n",
       "      <td>661</td>\n",
       "      <td>3</td>\n",
       "      <td>978302109</td>\n",
       "    </tr>\n",
       "    <tr>\n",
       "      <th>2</th>\n",
       "      <td>1</td>\n",
       "      <td>914</td>\n",
       "      <td>3</td>\n",
       "      <td>978301968</td>\n",
       "    </tr>\n",
       "    <tr>\n",
       "      <th>3</th>\n",
       "      <td>1</td>\n",
       "      <td>3408</td>\n",
       "      <td>4</td>\n",
       "      <td>978300275</td>\n",
       "    </tr>\n",
       "    <tr>\n",
       "      <th>4</th>\n",
       "      <td>1</td>\n",
       "      <td>2355</td>\n",
       "      <td>5</td>\n",
       "      <td>978824291</td>\n",
       "    </tr>\n",
       "  </tbody>\n",
       "</table>\n",
       "</div>"
      ],
      "text/plain": [
       "   user_id  item_id  rating  timestamp\n",
       "0        1     1193       5  978300760\n",
       "1        1      661       3  978302109\n",
       "2        1      914       3  978301968\n",
       "3        1     3408       4  978300275\n",
       "4        1     2355       5  978824291"
      ]
     },
     "execution_count": 3,
     "metadata": {},
     "output_type": "execute_result"
    }
   ],
   "source": [
    "dataset.head()"
   ]
  },
  {
   "cell_type": "code",
   "execution_count": 4,
   "metadata": {
    "collapsed": false
   },
   "outputs": [
    {
     "data": {
      "text/plain": [
       "(6040, 3706)"
      ]
     },
     "execution_count": 4,
     "metadata": {},
     "output_type": "execute_result"
    }
   ],
   "source": [
    "len(dataset.user_id.unique()), len(dataset.item_id.unique())"
   ]
  },
  {
   "cell_type": "code",
   "execution_count": 5,
   "metadata": {
    "collapsed": true
   },
   "outputs": [],
   "source": [
    "dataset.user_id = dataset.user_id.astype('category').cat.codes.values\n",
    "dataset.item_id = dataset.item_id.astype('category').cat.codes.values"
   ]
  },
  {
   "cell_type": "code",
   "execution_count": 6,
   "metadata": {
    "collapsed": false
   },
   "outputs": [
    {
     "data": {
      "text/html": [
       "<div>\n",
       "<table border=\"1\" class=\"dataframe\">\n",
       "  <thead>\n",
       "    <tr style=\"text-align: right;\">\n",
       "      <th></th>\n",
       "      <th>user_id</th>\n",
       "      <th>item_id</th>\n",
       "      <th>rating</th>\n",
       "      <th>timestamp</th>\n",
       "    </tr>\n",
       "  </thead>\n",
       "  <tbody>\n",
       "    <tr>\n",
       "      <th>0</th>\n",
       "      <td>0</td>\n",
       "      <td>1104</td>\n",
       "      <td>5</td>\n",
       "      <td>978300760</td>\n",
       "    </tr>\n",
       "    <tr>\n",
       "      <th>1</th>\n",
       "      <td>0</td>\n",
       "      <td>639</td>\n",
       "      <td>3</td>\n",
       "      <td>978302109</td>\n",
       "    </tr>\n",
       "    <tr>\n",
       "      <th>2</th>\n",
       "      <td>0</td>\n",
       "      <td>853</td>\n",
       "      <td>3</td>\n",
       "      <td>978301968</td>\n",
       "    </tr>\n",
       "    <tr>\n",
       "      <th>3</th>\n",
       "      <td>0</td>\n",
       "      <td>3177</td>\n",
       "      <td>4</td>\n",
       "      <td>978300275</td>\n",
       "    </tr>\n",
       "    <tr>\n",
       "      <th>4</th>\n",
       "      <td>0</td>\n",
       "      <td>2162</td>\n",
       "      <td>5</td>\n",
       "      <td>978824291</td>\n",
       "    </tr>\n",
       "  </tbody>\n",
       "</table>\n",
       "</div>"
      ],
      "text/plain": [
       "   user_id  item_id  rating  timestamp\n",
       "0        0     1104       5  978300760\n",
       "1        0      639       3  978302109\n",
       "2        0      853       3  978301968\n",
       "3        0     3177       4  978300275\n",
       "4        0     2162       5  978824291"
      ]
     },
     "execution_count": 6,
     "metadata": {},
     "output_type": "execute_result"
    }
   ],
   "source": [
    "dataset.head()"
   ]
  },
  {
   "cell_type": "code",
   "execution_count": 7,
   "metadata": {
    "collapsed": true
   },
   "outputs": [],
   "source": [
    "train, test = train_test_split(dataset, test_size=0.2)"
   ]
  },
  {
   "cell_type": "code",
   "execution_count": 8,
   "metadata": {
    "collapsed": true
   },
   "outputs": [],
   "source": [
    "n_users, n_movies = len(dataset.user_id.unique()), len(dataset.item_id.unique())\n",
    "n_latent_factors = 3"
   ]
  },
  {
   "cell_type": "code",
   "execution_count": 9,
   "metadata": {
    "collapsed": true
   },
   "outputs": [],
   "source": [
    "n_latent_factors_user = 10\n",
    "n_latent_factors_movie = 15\n",
    "\n",
    "movie_input = keras.layers.Input(shape=[1],name='Item')\n",
    "movie_embedding = keras.layers.Embedding(n_movies + 1, n_latent_factors_movie, name='Movie-Embedding')(movie_input)\n",
    "movie_vec = keras.layers.Flatten(name='FlattenMovies')(movie_embedding)\n",
    "movie_vec = keras.layers.Dropout(0.2)(movie_vec)\n",
    "\n",
    "\n",
    "user_input = keras.layers.Input(shape=[1],name='User')\n",
    "user_vec = keras.layers.Flatten(name='FlattenUsers')(keras.layers.Embedding(n_users + 1, n_latent_factors_user,name='User-Embedding')(user_input))\n",
    "user_vec = keras.layers.Dropout(0.2)(user_vec)\n",
    "\n",
    "\n",
    "concat = concatenate([movie_vec, user_vec],name='Concat')\n",
    "concat_dropout = keras.layers.Dropout(0.2)(concat)\n",
    "\n",
    "reshape = keras.layers.Reshape((25,1))(concat)\n",
    "lstm = keras.layers.LSTM(64)(reshape)\n",
    "\n",
    "dense = keras.layers.Dense(256,name='FullyConnected')(lstm)\n",
    "dropout_1 = keras.layers.Dropout(0.2,name='Dropout')(dense)\n",
    "dense_2 = keras.layers.Dense(128,name='FullyConnected-1')(dense)\n",
    "dropout_2 = keras.layers.Dropout(0.2,name='Dropout')(dense_2)\n",
    "dense_3 = keras.layers.Dense(64,name='FullyConnected-2')(dense_2)\n",
    "dropout_3 = keras.layers.Dropout(0.2,name='Dropout')(dense_3)\n",
    "dense_4 = keras.layers.Dense(32,name='FullyConnected-3', activation='relu')(dense_3)\n",
    "\n",
    "result = keras.layers.Dense(1, activation='relu',name='Activation')(dense_4)\n",
    "adam = Adam(lr=0.005)\n",
    "model = keras.Model([user_input, movie_input], result)\n",
    "model.compile(optimizer=adam,loss= 'mean_absolute_error')"
   ]
  },
  {
   "cell_type": "code",
   "execution_count": 10,
   "metadata": {
    "collapsed": false
   },
   "outputs": [
    {
     "name": "stdout",
     "output_type": "stream",
     "text": [
      "__________________________________________________________________________________________________\n",
      "Layer (type)                    Output Shape         Param #     Connected to                     \n",
      "==================================================================================================\n",
      "Item (InputLayer)               (None, 1)            0                                            \n",
      "__________________________________________________________________________________________________\n",
      "User (InputLayer)               (None, 1)            0                                            \n",
      "__________________________________________________________________________________________________\n",
      "Movie-Embedding (Embedding)     (None, 1, 15)        55605       Item[0][0]                       \n",
      "__________________________________________________________________________________________________\n",
      "User-Embedding (Embedding)      (None, 1, 10)        60410       User[0][0]                       \n",
      "__________________________________________________________________________________________________\n",
      "FlattenMovies (Flatten)         (None, 15)           0           Movie-Embedding[0][0]            \n",
      "__________________________________________________________________________________________________\n",
      "FlattenUsers (Flatten)          (None, 10)           0           User-Embedding[0][0]             \n",
      "__________________________________________________________________________________________________\n",
      "dropout_1 (Dropout)             (None, 15)           0           FlattenMovies[0][0]              \n",
      "__________________________________________________________________________________________________\n",
      "dropout_2 (Dropout)             (None, 10)           0           FlattenUsers[0][0]               \n",
      "__________________________________________________________________________________________________\n",
      "Concat (Concatenate)            (None, 25)           0           dropout_1[0][0]                  \n",
      "                                                                 dropout_2[0][0]                  \n",
      "__________________________________________________________________________________________________\n",
      "reshape_1 (Reshape)             (None, 25, 1)        0           Concat[0][0]                     \n",
      "__________________________________________________________________________________________________\n",
      "lstm_1 (LSTM)                   (None, 64)           16896       reshape_1[0][0]                  \n",
      "__________________________________________________________________________________________________\n",
      "FullyConnected (Dense)          (None, 256)          16640       lstm_1[0][0]                     \n",
      "__________________________________________________________________________________________________\n",
      "FullyConnected-1 (Dense)        (None, 128)          32896       FullyConnected[0][0]             \n",
      "__________________________________________________________________________________________________\n",
      "FullyConnected-2 (Dense)        (None, 64)           8256        FullyConnected-1[0][0]           \n",
      "__________________________________________________________________________________________________\n",
      "FullyConnected-3 (Dense)        (None, 32)           2080        FullyConnected-2[0][0]           \n",
      "__________________________________________________________________________________________________\n",
      "Activation (Dense)              (None, 1)            33          FullyConnected-3[0][0]           \n",
      "==================================================================================================\n",
      "Total params: 192,816\n",
      "Trainable params: 192,816\n",
      "Non-trainable params: 0\n",
      "__________________________________________________________________________________________________\n"
     ]
    }
   ],
   "source": [
    "model.summary()"
   ]
  },
  {
   "cell_type": "code",
   "execution_count": 11,
   "metadata": {
    "collapsed": false
   },
   "outputs": [
    {
     "name": "stdout",
     "output_type": "stream",
     "text": [
      "Epoch 1/15\n",
      "800167/800167 [==============================] - 305s 381us/step - loss: 0.7419\n",
      "Epoch 2/15\n",
      "800167/800167 [==============================] - 313s 392us/step - loss: 0.6925\n",
      "Epoch 3/15\n",
      "800167/800167 [==============================] - 300s 375us/step - loss: 0.6812\n",
      "Epoch 4/15\n",
      "800167/800167 [==============================] - 299s 374us/step - loss: 0.6782\n",
      "Epoch 5/15\n",
      "800167/800167 [==============================] - 304s 380us/step - loss: 0.6735\n",
      "Epoch 6/15\n",
      "800167/800167 [==============================] - 303s 378us/step - loss: 0.6702\n",
      "Epoch 7/15\n",
      "800167/800167 [==============================] - 302s 378us/step - loss: 0.6757\n",
      "Epoch 8/15\n",
      "800167/800167 [==============================] - 302s 378us/step - loss: 0.6698\n",
      "Epoch 9/15\n",
      "800167/800167 [==============================] - 303s 379us/step - loss: 0.6701\n",
      "Epoch 10/15\n",
      "800167/800167 [==============================] - 303s 379us/step - loss: 0.6683\n",
      "Epoch 11/15\n",
      "800167/800167 [==============================] - 306s 383us/step - loss: 0.6668\n",
      "Epoch 12/15\n",
      "800167/800167 [==============================] - 307s 383us/step - loss: 0.6662\n",
      "Epoch 13/15\n",
      "800167/800167 [==============================] - 309s 386us/step - loss: 0.6677\n",
      "Epoch 14/15\n",
      "800167/800167 [==============================] - 308s 385us/step - loss: 0.6738\n",
      "Epoch 15/15\n",
      "800167/800167 [==============================] - 307s 383us/step - loss: 0.6707\n"
     ]
    }
   ],
   "source": [
    "history = model.fit([train.user_id, train.item_id], train.rating, epochs=15)"
   ]
  },
  {
   "cell_type": "code",
   "execution_count": 12,
   "metadata": {
    "collapsed": false
   },
   "outputs": [
    {
     "data": {
      "text/plain": [
       "<matplotlib.text.Text at 0x1e9b1699940>"
      ]
     },
     "execution_count": 12,
     "metadata": {},
     "output_type": "execute_result"
    },
    {
     "data": {
      "image/png": "[encoded data removed]",
      "text/plain": [
       "<matplotlib.figure.Figure at 0x1e9b15d9b70>"
      ]
     },
     "metadata": {},
     "output_type": "display_data"
    }
   ],
   "source": [
    "pd.Series(history.history['loss']).plot(logy=True)\n",
    "plt.xlabel(\"Epoch\")\n",
    "plt.ylabel(\"Train Error\")"
   ]
  },
  {
   "cell_type": "code",
   "execution_count": 13,
   "metadata": {
    "collapsed": false
   },
   "outputs": [
    {
     "name": "stdout",
     "output_type": "stream",
     "text": [
      "0.6797372551764129\n",
      "0.6581238666428383\n"
     ]
    }
   ],
   "source": [
    "y_true_test = test.rating\n",
    "y_true_train = train.rating\n",
    "y_test = np.round(model.predict([test.user_id, test.item_id]),0)\n",
    "y_train = np.round(model.predict([train.user_id, train.item_id]),0)\n",
    "\n",
    "print(mean_absolute_error(y_true_test, y_test))\n",
    "print(mean_absolute_error(y_true_train, y_train))"
   ]
  },
  {
   "cell_type": "code",
   "execution_count": 14,
   "metadata": {
    "collapsed": false
   },
   "outputs": [
    {
     "name": "stdout",
     "output_type": "stream",
     "text": [
      "0.9276651903100349\n",
      "0.8914976498655905\n"
     ]
    }
   ],
   "source": [
    "y_test = np.round(model.predict([test.user_id, test.item_id]),0)\n",
    "y_train = np.round(model.predict([train.user_id, train.item_id]),0)\n",
    "\n",
    "print(mean_squared_error(y_true_test, y_test))\n",
    "print(mean_squared_error(y_true_train, y_train))"
   ]
  }
 ],
 "metadata": {
  "anaconda-cloud": {},
  "kernelspec": {
   "display_name": "Python [default]",
   "language": "python",
   "name": "python3"
  },
  "language_info": {
   "codemirror_mode": {
    "name": "ipython",
    "version": 3
   },
   "file_extension": ".py",
   "mimetype": "text/x-python",
   "name": "python",
   "nbconvert_exporter": "python",
   "pygments_lexer": "ipython3",
   "version": "3.5.2"
  }
 },
 "nbformat": 4,
 "nbformat_minor": 2
}
